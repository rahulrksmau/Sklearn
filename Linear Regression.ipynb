{
 "cells": [
  {
   "cell_type": "code",
   "execution_count": 32,
   "metadata": {
    "collapsed": true
   },
   "outputs": [],
   "source": [
    "import numpy as np\n",
    "import pandas as pd\n",
    "import matplotlib.pyplot as plt\n",
    "import seaborn as sb\n",
    "train = pd.read_csv('train_modified.csv')\n",
    "test = pd.read_csv('test_modified.csv')\n"
   ]
  },
  {
   "cell_type": "code",
   "execution_count": 33,
   "metadata": {},
   "outputs": [
    {
     "name": "stdout",
     "output_type": "stream",
     "text": [
      "<class 'pandas.core.frame.DataFrame'>\n",
      "RangeIndex: 87020 entries, 0 to 87019\n",
      "Data columns (total 52 columns):\n",
      "Unnamed: 0                    87020 non-null int64\n",
      "Disbursed                     87020 non-null float64\n",
      "Existing_EMI                  87020 non-null float64\n",
      "ID                            87020 non-null object\n",
      "Loan_Amount_Applied           87020 non-null float64\n",
      "Loan_Tenure_Applied           87020 non-null float64\n",
      "Monthly_Income                87020 non-null int64\n",
      "Var4                          87020 non-null int64\n",
      "Var5                          87020 non-null int64\n",
      "Age                           87020 non-null int64\n",
      "EMI_Loan_Submitted_Missing    87020 non-null int64\n",
      "Interest_Rate_New             87020 non-null int64\n",
      "Loan_Tenure_Submitted_New     87020 non-null int64\n",
      "Loan_Amount_Submitted_New     87020 non-null int64\n",
      "Processing_Fee_New            87020 non-null int64\n",
      "Device_Type_0                 87020 non-null int64\n",
      "Device_Type_1                 87020 non-null int64\n",
      "Filled_Form_0                 87020 non-null int64\n",
      "Filled_Form_1                 87020 non-null int64\n",
      "Gender_0                      87020 non-null int64\n",
      "Gender_1                      87020 non-null int64\n",
      "Var1_0                        87020 non-null int64\n",
      "Var1_1                        87020 non-null int64\n",
      "Var1_2                        87020 non-null int64\n",
      "Var1_3                        87020 non-null int64\n",
      "Var1_4                        87020 non-null int64\n",
      "Var1_5                        87020 non-null int64\n",
      "Var1_6                        87020 non-null int64\n",
      "Var1_7                        87020 non-null int64\n",
      "Var1_8                        87020 non-null int64\n",
      "Var1_9                        87020 non-null int64\n",
      "Var1_10                       87020 non-null int64\n",
      "Var1_11                       87020 non-null int64\n",
      "Var1_12                       87020 non-null int64\n",
      "Var1_13                       87020 non-null int64\n",
      "Var1_14                       87020 non-null int64\n",
      "Var1_15                       87020 non-null int64\n",
      "Var1_16                       87020 non-null int64\n",
      "Var1_17                       87020 non-null int64\n",
      "Var1_18                       87020 non-null int64\n",
      "Var2_0                        87020 non-null int64\n",
      "Var2_1                        87020 non-null int64\n",
      "Var2_2                        87020 non-null int64\n",
      "Var2_3                        87020 non-null int64\n",
      "Var2_4                        87020 non-null int64\n",
      "Var2_5                        87020 non-null int64\n",
      "Var2_6                        87020 non-null int64\n",
      "Mobile_Verified_0             87020 non-null int64\n",
      "Mobile_Verified_1             87020 non-null int64\n",
      "Source_0                      87020 non-null int64\n",
      "Source_1                      87020 non-null int64\n",
      "Source_2                      87020 non-null int64\n",
      "dtypes: float64(4), int64(47), object(1)\n",
      "memory usage: 34.5+ MB\n",
      "None\n",
      "<class 'pandas.core.frame.DataFrame'>\n",
      "RangeIndex: 37717 entries, 0 to 37716\n",
      "Data columns (total 52 columns):\n",
      "Unnamed: 0                    37717 non-null int64\n",
      "Disbursed                     0 non-null float64\n",
      "Existing_EMI                  37717 non-null float64\n",
      "ID                            37717 non-null object\n",
      "Loan_Amount_Applied           37717 non-null float64\n",
      "Loan_Tenure_Applied           37717 non-null float64\n",
      "Monthly_Income                37717 non-null int64\n",
      "Var4                          37717 non-null int64\n",
      "Var5                          37717 non-null int64\n",
      "Age                           37717 non-null int64\n",
      "EMI_Loan_Submitted_Missing    37717 non-null int64\n",
      "Interest_Rate_New             37717 non-null int64\n",
      "Loan_Tenure_Submitted_New     37717 non-null int64\n",
      "Loan_Amount_Submitted_New     37717 non-null int64\n",
      "Processing_Fee_New            37717 non-null int64\n",
      "Device_Type_0                 37717 non-null int64\n",
      "Device_Type_1                 37717 non-null int64\n",
      "Filled_Form_0                 37717 non-null int64\n",
      "Filled_Form_1                 37717 non-null int64\n",
      "Gender_0                      37717 non-null int64\n",
      "Gender_1                      37717 non-null int64\n",
      "Var1_0                        37717 non-null int64\n",
      "Var1_1                        37717 non-null int64\n",
      "Var1_2                        37717 non-null int64\n",
      "Var1_3                        37717 non-null int64\n",
      "Var1_4                        37717 non-null int64\n",
      "Var1_5                        37717 non-null int64\n",
      "Var1_6                        37717 non-null int64\n",
      "Var1_7                        37717 non-null int64\n",
      "Var1_8                        37717 non-null int64\n",
      "Var1_9                        37717 non-null int64\n",
      "Var1_10                       37717 non-null int64\n",
      "Var1_11                       37717 non-null int64\n",
      "Var1_12                       37717 non-null int64\n",
      "Var1_13                       37717 non-null int64\n",
      "Var1_14                       37717 non-null int64\n",
      "Var1_15                       37717 non-null int64\n",
      "Var1_16                       37717 non-null int64\n",
      "Var1_17                       37717 non-null int64\n",
      "Var1_18                       37717 non-null int64\n",
      "Var2_0                        37717 non-null int64\n",
      "Var2_1                        37717 non-null int64\n",
      "Var2_2                        37717 non-null int64\n",
      "Var2_3                        37717 non-null int64\n",
      "Var2_4                        37717 non-null int64\n",
      "Var2_5                        37717 non-null int64\n",
      "Var2_6                        37717 non-null int64\n",
      "Mobile_Verified_0             37717 non-null int64\n",
      "Mobile_Verified_1             37717 non-null int64\n",
      "Source_0                      37717 non-null int64\n",
      "Source_1                      37717 non-null int64\n",
      "Source_2                      37717 non-null int64\n",
      "dtypes: float64(4), int64(47), object(1)\n",
      "memory usage: 15.0+ MB\n",
      "None\n"
     ]
    }
   ],
   "source": [
    "print (train.info())\n",
    "print (test.info())"
   ]
  },
  {
   "cell_type": "code",
   "execution_count": 34,
   "metadata": {
    "collapsed": true
   },
   "outputs": [],
   "source": [
    "#Model importing Liner Regression\n",
    "from sklearn import linear_model\n",
    "\n",
    "#splitting train data into X_train,X_test,y_train,y_test , For accuracy check\n",
    "from sklearn.model_selection import train_test_split\n",
    "from sklearn.metrics import  accuracy_score"
   ]
  },
  {
   "cell_type": "code",
   "execution_count": 48,
   "metadata": {},
   "outputs": [],
   "source": [
    "y = train['Disbursed']\n",
    "col = list(set(train.columns) - set(['Disbursed' , 'ID']))\n",
    "X = train[col]\n",
    "X_train, X_test, y_train, y_test = train_test_split(X,y,random_state=22, test_size=0.40)"
   ]
  },
  {
   "cell_type": "code",
   "execution_count": 49,
   "metadata": {},
   "outputs": [
    {
     "data": {
      "text/plain": [
       "((52212, 50), (34808, 50), 52212, 34808)"
      ]
     },
     "execution_count": 49,
     "metadata": {},
     "output_type": "execute_result"
    }
   ],
   "source": [
    "X_train.shape, X_test.shape, len(y_train), len(y_test)\n"
   ]
  },
  {
   "cell_type": "code",
   "execution_count": 50,
   "metadata": {
    "collapsed": true
   },
   "outputs": [],
   "source": [
    "#Preparing the linear Regressioin model\n",
    "model = linear_model.LinearRegression()"
   ]
  },
  {
   "cell_type": "code",
   "execution_count": 51,
   "metadata": {},
   "outputs": [
    {
     "data": {
      "text/plain": [
       "LinearRegression(copy_X=True, fit_intercept=True, n_jobs=1, normalize=False)"
      ]
     },
     "execution_count": 51,
     "metadata": {},
     "output_type": "execute_result"
    }
   ],
   "source": [
    "#training the Linear Regression model\n",
    "model.fit(X_train, y_train)"
   ]
  },
  {
   "cell_type": "code",
   "execution_count": 52,
   "metadata": {},
   "outputs": [
    {
     "data": {
      "text/plain": [
       "0.021310309226762914"
      ]
     },
     "execution_count": 52,
     "metadata": {},
     "output_type": "execute_result"
    }
   ],
   "source": [
    "model.score(X_train, y_train)"
   ]
  },
  {
   "cell_type": "code",
   "execution_count": 53,
   "metadata": {},
   "outputs": [
    {
     "name": "stdout",
     "output_type": "stream",
     "text": [
      "[ -2.73031355e+04   1.44209882e-03  -2.73031451e+04   2.24618638e-03\n",
      "  -1.41151979e-10   3.44261935e-08   1.70430008e-04  -3.17777449e-09\n",
      "  -9.10104230e+03  -5.77804422e-03   4.90966691e-03   8.67507300e-04\n",
      "  -9.10104230e+03   3.06042726e-04  -2.73031382e+04  -2.73031126e+04\n",
      "  -5.64147458e-03   5.64148267e-03  -1.69770583e-03  -2.73031003e+04\n",
      "  -2.73031047e+04  -2.73031247e+04  -2.73031412e+04  -2.73031412e+04\n",
      "  -1.70087819e-03  -2.73031227e+04  -2.73031594e+04  -9.10104230e+03\n",
      "  -2.73031463e+04  -2.73031217e+04  -2.73031367e+04  -2.73031589e+04\n",
      "  -2.73031593e+04   7.26205175e-03  -1.48396370e-02  -1.66593610e-04\n",
      "  -2.73031591e+04   7.86207538e-04  -2.73031523e+04  -3.54376037e-03\n",
      "  -2.49067843e-06  -4.04460987e-03   4.04461195e-03   2.50765879e-08\n",
      "   4.19283354e-03  -4.19283332e-03  -1.70087836e-03   7.47628095e-03\n",
      "  -6.06452529e-03   2.86134504e-03]\n",
      "27303.1283101\n"
     ]
    }
   ],
   "source": [
    "print (model.coef_)\n",
    "print (model.intercept_)"
   ]
  },
  {
   "cell_type": "code",
   "execution_count": 58,
   "metadata": {},
   "outputs": [],
   "source": [
    "predict = model.predict(X_test)\n"
   ]
  },
  {
   "cell_type": "code",
   "execution_count": 70,
   "metadata": {
    "scrolled": false
   },
   "outputs": [
    {
     "name": "stdout",
     "output_type": "stream",
     "text": [
      "<class 'pandas.core.frame.DataFrame'>\n",
      "RangeIndex: 37717 entries, 0 to 37716\n",
      "Data columns (total 50 columns):\n",
      "Unnamed: 0                    37717 non-null int64\n",
      "Existing_EMI                  37717 non-null float64\n",
      "Loan_Amount_Applied           37717 non-null float64\n",
      "Loan_Tenure_Applied           37717 non-null float64\n",
      "Monthly_Income                37717 non-null int64\n",
      "Var4                          37717 non-null int64\n",
      "Var5                          37717 non-null int64\n",
      "Age                           37717 non-null int64\n",
      "EMI_Loan_Submitted_Missing    37717 non-null int64\n",
      "Interest_Rate_New             37717 non-null int64\n",
      "Loan_Tenure_Submitted_New     37717 non-null int64\n",
      "Loan_Amount_Submitted_New     37717 non-null int64\n",
      "Processing_Fee_New            37717 non-null int64\n",
      "Device_Type_0                 37717 non-null int64\n",
      "Device_Type_1                 37717 non-null int64\n",
      "Filled_Form_0                 37717 non-null int64\n",
      "Filled_Form_1                 37717 non-null int64\n",
      "Gender_0                      37717 non-null int64\n",
      "Gender_1                      37717 non-null int64\n",
      "Var1_0                        37717 non-null int64\n",
      "Var1_1                        37717 non-null int64\n",
      "Var1_2                        37717 non-null int64\n",
      "Var1_3                        37717 non-null int64\n",
      "Var1_4                        37717 non-null int64\n",
      "Var1_5                        37717 non-null int64\n",
      "Var1_6                        37717 non-null int64\n",
      "Var1_7                        37717 non-null int64\n",
      "Var1_8                        37717 non-null int64\n",
      "Var1_9                        37717 non-null int64\n",
      "Var1_10                       37717 non-null int64\n",
      "Var1_11                       37717 non-null int64\n",
      "Var1_12                       37717 non-null int64\n",
      "Var1_13                       37717 non-null int64\n",
      "Var1_14                       37717 non-null int64\n",
      "Var1_15                       37717 non-null int64\n",
      "Var1_16                       37717 non-null int64\n",
      "Var1_17                       37717 non-null int64\n",
      "Var1_18                       37717 non-null int64\n",
      "Var2_0                        37717 non-null int64\n",
      "Var2_1                        37717 non-null int64\n",
      "Var2_2                        37717 non-null int64\n",
      "Var2_3                        37717 non-null int64\n",
      "Var2_4                        37717 non-null int64\n",
      "Var2_5                        37717 non-null int64\n",
      "Var2_6                        37717 non-null int64\n",
      "Mobile_Verified_0             37717 non-null int64\n",
      "Mobile_Verified_1             37717 non-null int64\n",
      "Source_0                      37717 non-null int64\n",
      "Source_1                      37717 non-null int64\n",
      "Source_2                      37717 non-null int64\n",
      "dtypes: float64(3), int64(47)\n",
      "memory usage: 14.4 MB\n"
     ]
    }
   ],
   "source": [
    "#test.drop(['ID'],axis=1,inplace=True)\n",
    "test.info()"
   ]
  },
  {
   "cell_type": "code",
   "execution_count": 68,
   "metadata": {
    "collapsed": true
   },
   "outputs": [],
   "source": [
    "test.drop(['Disbursed'],axis=1, inplace=True)"
   ]
  },
  {
   "cell_type": "code",
   "execution_count": 71,
   "metadata": {
    "collapsed": true
   },
   "outputs": [],
   "source": [
    "prediction = model.predict(test)"
   ]
  },
  {
   "cell_type": "code",
   "execution_count": 72,
   "metadata": {
    "collapsed": true
   },
   "outputs": [],
   "source": [
    "test['Disbursed']=prediction"
   ]
  },
  {
   "cell_type": "code",
   "execution_count": 73,
   "metadata": {},
   "outputs": [
    {
     "name": "stdout",
     "output_type": "stream",
     "text": [
      "<class 'pandas.core.frame.DataFrame'>\n",
      "RangeIndex: 37717 entries, 0 to 37716\n",
      "Data columns (total 51 columns):\n",
      "Unnamed: 0                    37717 non-null int64\n",
      "Existing_EMI                  37717 non-null float64\n",
      "Loan_Amount_Applied           37717 non-null float64\n",
      "Loan_Tenure_Applied           37717 non-null float64\n",
      "Monthly_Income                37717 non-null int64\n",
      "Var4                          37717 non-null int64\n",
      "Var5                          37717 non-null int64\n",
      "Age                           37717 non-null int64\n",
      "EMI_Loan_Submitted_Missing    37717 non-null int64\n",
      "Interest_Rate_New             37717 non-null int64\n",
      "Loan_Tenure_Submitted_New     37717 non-null int64\n",
      "Loan_Amount_Submitted_New     37717 non-null int64\n",
      "Processing_Fee_New            37717 non-null int64\n",
      "Device_Type_0                 37717 non-null int64\n",
      "Device_Type_1                 37717 non-null int64\n",
      "Filled_Form_0                 37717 non-null int64\n",
      "Filled_Form_1                 37717 non-null int64\n",
      "Gender_0                      37717 non-null int64\n",
      "Gender_1                      37717 non-null int64\n",
      "Var1_0                        37717 non-null int64\n",
      "Var1_1                        37717 non-null int64\n",
      "Var1_2                        37717 non-null int64\n",
      "Var1_3                        37717 non-null int64\n",
      "Var1_4                        37717 non-null int64\n",
      "Var1_5                        37717 non-null int64\n",
      "Var1_6                        37717 non-null int64\n",
      "Var1_7                        37717 non-null int64\n",
      "Var1_8                        37717 non-null int64\n",
      "Var1_9                        37717 non-null int64\n",
      "Var1_10                       37717 non-null int64\n",
      "Var1_11                       37717 non-null int64\n",
      "Var1_12                       37717 non-null int64\n",
      "Var1_13                       37717 non-null int64\n",
      "Var1_14                       37717 non-null int64\n",
      "Var1_15                       37717 non-null int64\n",
      "Var1_16                       37717 non-null int64\n",
      "Var1_17                       37717 non-null int64\n",
      "Var1_18                       37717 non-null int64\n",
      "Var2_0                        37717 non-null int64\n",
      "Var2_1                        37717 non-null int64\n",
      "Var2_2                        37717 non-null int64\n",
      "Var2_3                        37717 non-null int64\n",
      "Var2_4                        37717 non-null int64\n",
      "Var2_5                        37717 non-null int64\n",
      "Var2_6                        37717 non-null int64\n",
      "Mobile_Verified_0             37717 non-null int64\n",
      "Mobile_Verified_1             37717 non-null int64\n",
      "Source_0                      37717 non-null int64\n",
      "Source_1                      37717 non-null int64\n",
      "Source_2                      37717 non-null int64\n",
      "Disbursed                     37717 non-null float64\n",
      "dtypes: float64(4), int64(47)\n",
      "memory usage: 14.7 MB\n"
     ]
    }
   ],
   "source": [
    "test.info()"
   ]
  },
  {
   "cell_type": "code",
   "execution_count": 74,
   "metadata": {},
   "outputs": [
    {
     "name": "stdout",
     "output_type": "stream",
     "text": [
      "<class 'pandas.core.frame.DataFrame'>\n",
      "RangeIndex: 87020 entries, 0 to 87019\n",
      "Data columns (total 52 columns):\n",
      "Unnamed: 0                    87020 non-null int64\n",
      "Disbursed                     87020 non-null float64\n",
      "Existing_EMI                  87020 non-null float64\n",
      "ID                            87020 non-null object\n",
      "Loan_Amount_Applied           87020 non-null float64\n",
      "Loan_Tenure_Applied           87020 non-null float64\n",
      "Monthly_Income                87020 non-null int64\n",
      "Var4                          87020 non-null int64\n",
      "Var5                          87020 non-null int64\n",
      "Age                           87020 non-null int64\n",
      "EMI_Loan_Submitted_Missing    87020 non-null int64\n",
      "Interest_Rate_New             87020 non-null int64\n",
      "Loan_Tenure_Submitted_New     87020 non-null int64\n",
      "Loan_Amount_Submitted_New     87020 non-null int64\n",
      "Processing_Fee_New            87020 non-null int64\n",
      "Device_Type_0                 87020 non-null int64\n",
      "Device_Type_1                 87020 non-null int64\n",
      "Filled_Form_0                 87020 non-null int64\n",
      "Filled_Form_1                 87020 non-null int64\n",
      "Gender_0                      87020 non-null int64\n",
      "Gender_1                      87020 non-null int64\n",
      "Var1_0                        87020 non-null int64\n",
      "Var1_1                        87020 non-null int64\n",
      "Var1_2                        87020 non-null int64\n",
      "Var1_3                        87020 non-null int64\n",
      "Var1_4                        87020 non-null int64\n",
      "Var1_5                        87020 non-null int64\n",
      "Var1_6                        87020 non-null int64\n",
      "Var1_7                        87020 non-null int64\n",
      "Var1_8                        87020 non-null int64\n",
      "Var1_9                        87020 non-null int64\n",
      "Var1_10                       87020 non-null int64\n",
      "Var1_11                       87020 non-null int64\n",
      "Var1_12                       87020 non-null int64\n",
      "Var1_13                       87020 non-null int64\n",
      "Var1_14                       87020 non-null int64\n",
      "Var1_15                       87020 non-null int64\n",
      "Var1_16                       87020 non-null int64\n",
      "Var1_17                       87020 non-null int64\n",
      "Var1_18                       87020 non-null int64\n",
      "Var2_0                        87020 non-null int64\n",
      "Var2_1                        87020 non-null int64\n",
      "Var2_2                        87020 non-null int64\n",
      "Var2_3                        87020 non-null int64\n",
      "Var2_4                        87020 non-null int64\n",
      "Var2_5                        87020 non-null int64\n",
      "Var2_6                        87020 non-null int64\n",
      "Mobile_Verified_0             87020 non-null int64\n",
      "Mobile_Verified_1             87020 non-null int64\n",
      "Source_0                      87020 non-null int64\n",
      "Source_1                      87020 non-null int64\n",
      "Source_2                      87020 non-null int64\n",
      "dtypes: float64(4), int64(47), object(1)\n",
      "memory usage: 34.5+ MB\n"
     ]
    }
   ],
   "source": [
    "train.info()"
   ]
  },
  {
   "cell_type": "code",
   "execution_count": 79,
   "metadata": {},
   "outputs": [
    {
     "data": {
      "text/plain": [
       "(-2375946151.1504607, -412812076251.05438)"
      ]
     },
     "execution_count": 79,
     "metadata": {},
     "output_type": "execute_result"
    }
   ],
   "source": [
    "max(test['Disbursed']),min(test['Disbursed'])\n"
   ]
  },
  {
   "cell_type": "code",
   "execution_count": 95,
   "metadata": {},
   "outputs": [
    {
     "data": {
      "text/plain": [
       "((52212, 50), (34808, 50), 52212, 34808)"
      ]
     },
     "execution_count": 95,
     "metadata": {},
     "output_type": "execute_result"
    }
   ],
   "source": [
    "X_train.shape, X_test.shape, len(y_train), len(y_test)"
   ]
  },
  {
   "cell_type": "code",
   "execution_count": 96,
   "metadata": {},
   "outputs": [
    {
     "data": {
      "text/plain": [
       "0.019087347615454164"
      ]
     },
     "execution_count": 96,
     "metadata": {},
     "output_type": "execute_result"
    }
   ],
   "source": [
    "model.score(X,y)"
   ]
  },
  {
   "cell_type": "code",
   "execution_count": null,
   "metadata": {
    "collapsed": true
   },
   "outputs": [],
   "source": []
  }
 ],
 "metadata": {
  "kernelspec": {
   "display_name": "Python 2",
   "language": "python",
   "name": "python2"
  },
  "language_info": {
   "codemirror_mode": {
    "name": "ipython",
    "version": 2
   },
   "file_extension": ".py",
   "mimetype": "text/x-python",
   "name": "python",
   "nbconvert_exporter": "python",
   "pygments_lexer": "ipython2",
   "version": "2.7.13"
  }
 },
 "nbformat": 4,
 "nbformat_minor": 2
}
