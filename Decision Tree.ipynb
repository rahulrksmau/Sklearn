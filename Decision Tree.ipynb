{
 "cells": [
  {
   "cell_type": "code",
   "execution_count": 1,
   "metadata": {
    "collapsed": true
   },
   "outputs": [],
   "source": [
    "import numpy as np\n",
    "import pandas as pd\n",
    "import matplotlib.pyplot as plt\n",
    "import seaborn as sb\n",
    "\n",
    "train = pd.read_csv('train_modified.csv')\n",
    "test  = pd.read_csv('test_modified.csv')"
   ]
  },
  {
   "cell_type": "code",
   "execution_count": 2,
   "metadata": {},
   "outputs": [
    {
     "name": "stdout",
     "output_type": "stream",
     "text": [
      "<class 'pandas.core.frame.DataFrame'>\n",
      "RangeIndex: 87020 entries, 0 to 87019\n",
      "Data columns (total 52 columns):\n",
      "Unnamed: 0                    87020 non-null int64\n",
      "Disbursed                     87020 non-null float64\n",
      "Existing_EMI                  87020 non-null float64\n",
      "ID                            87020 non-null object\n",
      "Loan_Amount_Applied           87020 non-null float64\n",
      "Loan_Tenure_Applied           87020 non-null float64\n",
      "Monthly_Income                87020 non-null int64\n",
      "Var4                          87020 non-null int64\n",
      "Var5                          87020 non-null int64\n",
      "Age                           87020 non-null int64\n",
      "EMI_Loan_Submitted_Missing    87020 non-null int64\n",
      "Interest_Rate_New             87020 non-null int64\n",
      "Loan_Tenure_Submitted_New     87020 non-null int64\n",
      "Loan_Amount_Submitted_New     87020 non-null int64\n",
      "Processing_Fee_New            87020 non-null int64\n",
      "Device_Type_0                 87020 non-null int64\n",
      "Device_Type_1                 87020 non-null int64\n",
      "Filled_Form_0                 87020 non-null int64\n",
      "Filled_Form_1                 87020 non-null int64\n",
      "Gender_0                      87020 non-null int64\n",
      "Gender_1                      87020 non-null int64\n",
      "Var1_0                        87020 non-null int64\n",
      "Var1_1                        87020 non-null int64\n",
      "Var1_2                        87020 non-null int64\n",
      "Var1_3                        87020 non-null int64\n",
      "Var1_4                        87020 non-null int64\n",
      "Var1_5                        87020 non-null int64\n",
      "Var1_6                        87020 non-null int64\n",
      "Var1_7                        87020 non-null int64\n",
      "Var1_8                        87020 non-null int64\n",
      "Var1_9                        87020 non-null int64\n",
      "Var1_10                       87020 non-null int64\n",
      "Var1_11                       87020 non-null int64\n",
      "Var1_12                       87020 non-null int64\n",
      "Var1_13                       87020 non-null int64\n",
      "Var1_14                       87020 non-null int64\n",
      "Var1_15                       87020 non-null int64\n",
      "Var1_16                       87020 non-null int64\n",
      "Var1_17                       87020 non-null int64\n",
      "Var1_18                       87020 non-null int64\n",
      "Var2_0                        87020 non-null int64\n",
      "Var2_1                        87020 non-null int64\n",
      "Var2_2                        87020 non-null int64\n",
      "Var2_3                        87020 non-null int64\n",
      "Var2_4                        87020 non-null int64\n",
      "Var2_5                        87020 non-null int64\n",
      "Var2_6                        87020 non-null int64\n",
      "Mobile_Verified_0             87020 non-null int64\n",
      "Mobile_Verified_1             87020 non-null int64\n",
      "Source_0                      87020 non-null int64\n",
      "Source_1                      87020 non-null int64\n",
      "Source_2                      87020 non-null int64\n",
      "dtypes: float64(4), int64(47), object(1)\n",
      "memory usage: 34.5+ MB\n",
      "None\n",
      "###############################\n",
      "<class 'pandas.core.frame.DataFrame'>\n",
      "RangeIndex: 37717 entries, 0 to 37716\n",
      "Data columns (total 52 columns):\n",
      "Unnamed: 0                    37717 non-null int64\n",
      "Disbursed                     0 non-null float64\n",
      "Existing_EMI                  37717 non-null float64\n",
      "ID                            37717 non-null object\n",
      "Loan_Amount_Applied           37717 non-null float64\n",
      "Loan_Tenure_Applied           37717 non-null float64\n",
      "Monthly_Income                37717 non-null int64\n",
      "Var4                          37717 non-null int64\n",
      "Var5                          37717 non-null int64\n",
      "Age                           37717 non-null int64\n",
      "EMI_Loan_Submitted_Missing    37717 non-null int64\n",
      "Interest_Rate_New             37717 non-null int64\n",
      "Loan_Tenure_Submitted_New     37717 non-null int64\n",
      "Loan_Amount_Submitted_New     37717 non-null int64\n",
      "Processing_Fee_New            37717 non-null int64\n",
      "Device_Type_0                 37717 non-null int64\n",
      "Device_Type_1                 37717 non-null int64\n",
      "Filled_Form_0                 37717 non-null int64\n",
      "Filled_Form_1                 37717 non-null int64\n",
      "Gender_0                      37717 non-null int64\n",
      "Gender_1                      37717 non-null int64\n",
      "Var1_0                        37717 non-null int64\n",
      "Var1_1                        37717 non-null int64\n",
      "Var1_2                        37717 non-null int64\n",
      "Var1_3                        37717 non-null int64\n",
      "Var1_4                        37717 non-null int64\n",
      "Var1_5                        37717 non-null int64\n",
      "Var1_6                        37717 non-null int64\n",
      "Var1_7                        37717 non-null int64\n",
      "Var1_8                        37717 non-null int64\n",
      "Var1_9                        37717 non-null int64\n",
      "Var1_10                       37717 non-null int64\n",
      "Var1_11                       37717 non-null int64\n",
      "Var1_12                       37717 non-null int64\n",
      "Var1_13                       37717 non-null int64\n",
      "Var1_14                       37717 non-null int64\n",
      "Var1_15                       37717 non-null int64\n",
      "Var1_16                       37717 non-null int64\n",
      "Var1_17                       37717 non-null int64\n",
      "Var1_18                       37717 non-null int64\n",
      "Var2_0                        37717 non-null int64\n",
      "Var2_1                        37717 non-null int64\n",
      "Var2_2                        37717 non-null int64\n",
      "Var2_3                        37717 non-null int64\n",
      "Var2_4                        37717 non-null int64\n",
      "Var2_5                        37717 non-null int64\n",
      "Var2_6                        37717 non-null int64\n",
      "Mobile_Verified_0             37717 non-null int64\n",
      "Mobile_Verified_1             37717 non-null int64\n",
      "Source_0                      37717 non-null int64\n",
      "Source_1                      37717 non-null int64\n",
      "Source_2                      37717 non-null int64\n",
      "dtypes: float64(4), int64(47), object(1)\n",
      "memory usage: 15.0+ MB\n",
      "None\n"
     ]
    }
   ],
   "source": [
    "print (train.info())\n",
    "print \"###############################\"\n",
    "print (test.info())"
   ]
  },
  {
   "cell_type": "code",
   "execution_count": 3,
   "metadata": {},
   "outputs": [
    {
     "data": {
      "text/plain": [
       "(pandas.core.frame.DataFrame, pandas.core.series.Series)"
      ]
     },
     "execution_count": 3,
     "metadata": {},
     "output_type": "execute_result"
    }
   ],
   "source": [
    "y = train['Disbursed']\n",
    "train.drop(['ID', 'Disbursed'], axis=1, inplace=True)\n",
    "X = train\n",
    "type(X), type(y)"
   ]
  },
  {
   "cell_type": "code",
   "execution_count": 4,
   "metadata": {
    "collapsed": true
   },
   "outputs": [],
   "source": [
    "# import classifier \n",
    "from sklearn import tree"
   ]
  },
  {
   "cell_type": "code",
   "execution_count": 5,
   "metadata": {
    "collapsed": true
   },
   "outputs": [],
   "source": [
    "clf = tree.DecisionTreeClassifier(criterion='gini')\n",
    "#DecisionTreeRegression for regression\n",
    "# criterion is technique of spliting like Gini, Information Gain, Chi-square, entropy "
   ]
  },
  {
   "cell_type": "code",
   "execution_count": 6,
   "metadata": {},
   "outputs": [
    {
     "data": {
      "text/plain": [
       "DecisionTreeClassifier(class_weight=None, criterion='gini', max_depth=None,\n",
       "            max_features=None, max_leaf_nodes=None,\n",
       "            min_impurity_split=1e-07, min_samples_leaf=1,\n",
       "            min_samples_split=2, min_weight_fraction_leaf=0.0,\n",
       "            presort=False, random_state=None, splitter='best')"
      ]
     },
     "execution_count": 6,
     "metadata": {},
     "output_type": "execute_result"
    }
   ],
   "source": [
    "# Training model \n",
    "clf.fit(X,y)"
   ]
  },
  {
   "cell_type": "code",
   "execution_count": 7,
   "metadata": {},
   "outputs": [
    {
     "data": {
      "text/plain": [
       "1.0"
      ]
     },
     "execution_count": 7,
     "metadata": {},
     "output_type": "execute_result"
    }
   ],
   "source": [
    "# score determining\n",
    "clf.score(X,y)"
   ]
  },
  {
   "cell_type": "code",
   "execution_count": 8,
   "metadata": {
    "collapsed": true
   },
   "outputs": [],
   "source": [
    "from sklearn.model_selection import train_test_split\n",
    "X_train, X_test, y_train, y_test = train_test_split(X,y,test_size=0.25,random_state=20)"
   ]
  },
  {
   "cell_type": "code",
   "execution_count": 9,
   "metadata": {},
   "outputs": [
    {
     "data": {
      "text/plain": [
       "DecisionTreeClassifier(class_weight=None, criterion='gini', max_depth=None,\n",
       "            max_features=None, max_leaf_nodes=None,\n",
       "            min_impurity_split=1e-07, min_samples_leaf=1,\n",
       "            min_samples_split=2, min_weight_fraction_leaf=0.0,\n",
       "            presort=False, random_state=None, splitter='best')"
      ]
     },
     "execution_count": 9,
     "metadata": {},
     "output_type": "execute_result"
    }
   ],
   "source": [
    "clf = tree.DecisionTreeClassifier(criterion='gini')\n",
    "clf.fit(X_train, y_train)"
   ]
  },
  {
   "cell_type": "code",
   "execution_count": 10,
   "metadata": {
    "collapsed": true
   },
   "outputs": [],
   "source": [
    "from sklearn.metrics import accuracy_score\n",
    "pred = clf.predict(X_test)\n"
   ]
  },
  {
   "cell_type": "code",
   "execution_count": 11,
   "metadata": {},
   "outputs": [
    {
     "data": {
      "text/plain": [
       "0.96851298552056997"
      ]
     },
     "execution_count": 11,
     "metadata": {},
     "output_type": "execute_result"
    }
   ],
   "source": [
    "accuracy_score(y_pred=pred,y_true=y_test)"
   ]
  },
  {
   "cell_type": "code",
   "execution_count": 12,
   "metadata": {},
   "outputs": [
    {
     "name": "stdout",
     "output_type": "stream",
     "text": [
      "<class 'pandas.core.frame.DataFrame'>\n",
      "RangeIndex: 37717 entries, 0 to 37716\n",
      "Data columns (total 52 columns):\n",
      "Unnamed: 0                    37717 non-null int64\n",
      "Disbursed                     0 non-null float64\n",
      "Existing_EMI                  37717 non-null float64\n",
      "ID                            37717 non-null object\n",
      "Loan_Amount_Applied           37717 non-null float64\n",
      "Loan_Tenure_Applied           37717 non-null float64\n",
      "Monthly_Income                37717 non-null int64\n",
      "Var4                          37717 non-null int64\n",
      "Var5                          37717 non-null int64\n",
      "Age                           37717 non-null int64\n",
      "EMI_Loan_Submitted_Missing    37717 non-null int64\n",
      "Interest_Rate_New             37717 non-null int64\n",
      "Loan_Tenure_Submitted_New     37717 non-null int64\n",
      "Loan_Amount_Submitted_New     37717 non-null int64\n",
      "Processing_Fee_New            37717 non-null int64\n",
      "Device_Type_0                 37717 non-null int64\n",
      "Device_Type_1                 37717 non-null int64\n",
      "Filled_Form_0                 37717 non-null int64\n",
      "Filled_Form_1                 37717 non-null int64\n",
      "Gender_0                      37717 non-null int64\n",
      "Gender_1                      37717 non-null int64\n",
      "Var1_0                        37717 non-null int64\n",
      "Var1_1                        37717 non-null int64\n",
      "Var1_2                        37717 non-null int64\n",
      "Var1_3                        37717 non-null int64\n",
      "Var1_4                        37717 non-null int64\n",
      "Var1_5                        37717 non-null int64\n",
      "Var1_6                        37717 non-null int64\n",
      "Var1_7                        37717 non-null int64\n",
      "Var1_8                        37717 non-null int64\n",
      "Var1_9                        37717 non-null int64\n",
      "Var1_10                       37717 non-null int64\n",
      "Var1_11                       37717 non-null int64\n",
      "Var1_12                       37717 non-null int64\n",
      "Var1_13                       37717 non-null int64\n",
      "Var1_14                       37717 non-null int64\n",
      "Var1_15                       37717 non-null int64\n",
      "Var1_16                       37717 non-null int64\n",
      "Var1_17                       37717 non-null int64\n",
      "Var1_18                       37717 non-null int64\n",
      "Var2_0                        37717 non-null int64\n",
      "Var2_1                        37717 non-null int64\n",
      "Var2_2                        37717 non-null int64\n",
      "Var2_3                        37717 non-null int64\n",
      "Var2_4                        37717 non-null int64\n",
      "Var2_5                        37717 non-null int64\n",
      "Var2_6                        37717 non-null int64\n",
      "Mobile_Verified_0             37717 non-null int64\n",
      "Mobile_Verified_1             37717 non-null int64\n",
      "Source_0                      37717 non-null int64\n",
      "Source_1                      37717 non-null int64\n",
      "Source_2                      37717 non-null int64\n",
      "dtypes: float64(4), int64(47), object(1)\n",
      "memory usage: 15.0+ MB\n"
     ]
    }
   ],
   "source": [
    "test.info()"
   ]
  },
  {
   "cell_type": "code",
   "execution_count": 13,
   "metadata": {
    "collapsed": true
   },
   "outputs": [],
   "source": [
    "col = [x for x in test.columns if x not in ['ID','Disbursed']]"
   ]
  },
  {
   "cell_type": "code",
   "execution_count": 17,
   "metadata": {},
   "outputs": [
    {
     "data": {
      "text/plain": [
       "(37717,)"
      ]
     },
     "execution_count": 17,
     "metadata": {},
     "output_type": "execute_result"
    }
   ],
   "source": [
    "X_ = test[col]\n",
    "prediction = clf.predict(X_)\n",
    "prediction.shape"
   ]
  },
  {
   "cell_type": "code",
   "execution_count": 18,
   "metadata": {
    "collapsed": true
   },
   "outputs": [],
   "source": [
    "test['Disbursed']=prediction"
   ]
  },
  {
   "cell_type": "code",
   "execution_count": 19,
   "metadata": {},
   "outputs": [
    {
     "data": {
      "text/html": [
       "<div>\n",
       "<style>\n",
       "    .dataframe thead tr:only-child th {\n",
       "        text-align: right;\n",
       "    }\n",
       "\n",
       "    .dataframe thead th {\n",
       "        text-align: left;\n",
       "    }\n",
       "\n",
       "    .dataframe tbody tr th {\n",
       "        vertical-align: top;\n",
       "    }\n",
       "</style>\n",
       "<table border=\"1\" class=\"dataframe\">\n",
       "  <thead>\n",
       "    <tr style=\"text-align: right;\">\n",
       "      <th></th>\n",
       "      <th>Unnamed: 0</th>\n",
       "      <th>Disbursed</th>\n",
       "      <th>Existing_EMI</th>\n",
       "      <th>ID</th>\n",
       "      <th>Loan_Amount_Applied</th>\n",
       "      <th>Loan_Tenure_Applied</th>\n",
       "      <th>Monthly_Income</th>\n",
       "      <th>Var4</th>\n",
       "      <th>Var5</th>\n",
       "      <th>Age</th>\n",
       "      <th>...</th>\n",
       "      <th>Var2_2</th>\n",
       "      <th>Var2_3</th>\n",
       "      <th>Var2_4</th>\n",
       "      <th>Var2_5</th>\n",
       "      <th>Var2_6</th>\n",
       "      <th>Mobile_Verified_0</th>\n",
       "      <th>Mobile_Verified_1</th>\n",
       "      <th>Source_0</th>\n",
       "      <th>Source_1</th>\n",
       "      <th>Source_2</th>\n",
       "    </tr>\n",
       "  </thead>\n",
       "  <tbody>\n",
       "    <tr>\n",
       "      <th>0</th>\n",
       "      <td>87020</td>\n",
       "      <td>0.0</td>\n",
       "      <td>0.0</td>\n",
       "      <td>ID000026A10</td>\n",
       "      <td>100000.0</td>\n",
       "      <td>3.0</td>\n",
       "      <td>21500</td>\n",
       "      <td>3</td>\n",
       "      <td>3</td>\n",
       "      <td>28</td>\n",
       "      <td>...</td>\n",
       "      <td>0</td>\n",
       "      <td>0</td>\n",
       "      <td>0</td>\n",
       "      <td>0</td>\n",
       "      <td>0</td>\n",
       "      <td>0</td>\n",
       "      <td>1</td>\n",
       "      <td>1</td>\n",
       "      <td>0</td>\n",
       "      <td>0</td>\n",
       "    </tr>\n",
       "    <tr>\n",
       "      <th>1</th>\n",
       "      <td>87021</td>\n",
       "      <td>0.0</td>\n",
       "      <td>0.0</td>\n",
       "      <td>ID000054C40</td>\n",
       "      <td>0.0</td>\n",
       "      <td>0.0</td>\n",
       "      <td>42000</td>\n",
       "      <td>5</td>\n",
       "      <td>8</td>\n",
       "      <td>35</td>\n",
       "      <td>...</td>\n",
       "      <td>1</td>\n",
       "      <td>0</td>\n",
       "      <td>0</td>\n",
       "      <td>0</td>\n",
       "      <td>0</td>\n",
       "      <td>0</td>\n",
       "      <td>1</td>\n",
       "      <td>0</td>\n",
       "      <td>1</td>\n",
       "      <td>0</td>\n",
       "    </tr>\n",
       "    <tr>\n",
       "      <th>2</th>\n",
       "      <td>87022</td>\n",
       "      <td>0.0</td>\n",
       "      <td>0.0</td>\n",
       "      <td>ID000066O10</td>\n",
       "      <td>300000.0</td>\n",
       "      <td>2.0</td>\n",
       "      <td>10000</td>\n",
       "      <td>1</td>\n",
       "      <td>0</td>\n",
       "      <td>26</td>\n",
       "      <td>...</td>\n",
       "      <td>0</td>\n",
       "      <td>0</td>\n",
       "      <td>0</td>\n",
       "      <td>0</td>\n",
       "      <td>0</td>\n",
       "      <td>1</td>\n",
       "      <td>0</td>\n",
       "      <td>0</td>\n",
       "      <td>1</td>\n",
       "      <td>0</td>\n",
       "    </tr>\n",
       "    <tr>\n",
       "      <th>3</th>\n",
       "      <td>87023</td>\n",
       "      <td>0.0</td>\n",
       "      <td>0.0</td>\n",
       "      <td>ID000110G00</td>\n",
       "      <td>0.0</td>\n",
       "      <td>0.0</td>\n",
       "      <td>14650</td>\n",
       "      <td>1</td>\n",
       "      <td>0</td>\n",
       "      <td>24</td>\n",
       "      <td>...</td>\n",
       "      <td>1</td>\n",
       "      <td>0</td>\n",
       "      <td>0</td>\n",
       "      <td>0</td>\n",
       "      <td>0</td>\n",
       "      <td>1</td>\n",
       "      <td>0</td>\n",
       "      <td>0</td>\n",
       "      <td>1</td>\n",
       "      <td>0</td>\n",
       "    </tr>\n",
       "    <tr>\n",
       "      <th>4</th>\n",
       "      <td>87024</td>\n",
       "      <td>0.0</td>\n",
       "      <td>5000.0</td>\n",
       "      <td>ID000113J30</td>\n",
       "      <td>100000.0</td>\n",
       "      <td>1.0</td>\n",
       "      <td>23400</td>\n",
       "      <td>1</td>\n",
       "      <td>0</td>\n",
       "      <td>28</td>\n",
       "      <td>...</td>\n",
       "      <td>0</td>\n",
       "      <td>0</td>\n",
       "      <td>0</td>\n",
       "      <td>0</td>\n",
       "      <td>0</td>\n",
       "      <td>0</td>\n",
       "      <td>1</td>\n",
       "      <td>0</td>\n",
       "      <td>0</td>\n",
       "      <td>1</td>\n",
       "    </tr>\n",
       "  </tbody>\n",
       "</table>\n",
       "<p>5 rows × 52 columns</p>\n",
       "</div>"
      ],
      "text/plain": [
       "   Unnamed: 0  Disbursed  Existing_EMI           ID  Loan_Amount_Applied  \\\n",
       "0       87020        0.0           0.0  ID000026A10             100000.0   \n",
       "1       87021        0.0           0.0  ID000054C40                  0.0   \n",
       "2       87022        0.0           0.0  ID000066O10             300000.0   \n",
       "3       87023        0.0           0.0  ID000110G00                  0.0   \n",
       "4       87024        0.0        5000.0  ID000113J30             100000.0   \n",
       "\n",
       "   Loan_Tenure_Applied  Monthly_Income  Var4  Var5  Age    ...     Var2_2  \\\n",
       "0                  3.0           21500     3     3   28    ...          0   \n",
       "1                  0.0           42000     5     8   35    ...          1   \n",
       "2                  2.0           10000     1     0   26    ...          0   \n",
       "3                  0.0           14650     1     0   24    ...          1   \n",
       "4                  1.0           23400     1     0   28    ...          0   \n",
       "\n",
       "   Var2_3  Var2_4  Var2_5  Var2_6  Mobile_Verified_0  Mobile_Verified_1  \\\n",
       "0       0       0       0       0                  0                  1   \n",
       "1       0       0       0       0                  0                  1   \n",
       "2       0       0       0       0                  1                  0   \n",
       "3       0       0       0       0                  1                  0   \n",
       "4       0       0       0       0                  0                  1   \n",
       "\n",
       "   Source_0  Source_1  Source_2  \n",
       "0         1         0         0  \n",
       "1         0         1         0  \n",
       "2         0         1         0  \n",
       "3         0         1         0  \n",
       "4         0         0         1  \n",
       "\n",
       "[5 rows x 52 columns]"
      ]
     },
     "execution_count": 19,
     "metadata": {},
     "output_type": "execute_result"
    }
   ],
   "source": [
    "test.head()"
   ]
  },
  {
   "cell_type": "code",
   "execution_count": null,
   "metadata": {
    "collapsed": true
   },
   "outputs": [],
   "source": []
  }
 ],
 "metadata": {
  "kernelspec": {
   "display_name": "Python 2",
   "language": "python",
   "name": "python2"
  },
  "language_info": {
   "codemirror_mode": {
    "name": "ipython",
    "version": 2
   },
   "file_extension": ".py",
   "mimetype": "text/x-python",
   "name": "python",
   "nbconvert_exporter": "python",
   "pygments_lexer": "ipython2",
   "version": "2.7.13"
  }
 },
 "nbformat": 4,
 "nbformat_minor": 2
}
